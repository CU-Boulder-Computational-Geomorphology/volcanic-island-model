{
 "cells": [
  {
   "cell_type": "markdown",
   "id": "b81dcb20",
   "metadata": {},
   "source": [
    "# \"Creepy volcano\": test with only hillslope weathering and soil creep\n",
    "\n",
    "*(Geomorph Seminar, CU Boulder, spring semester 2022)*"
   ]
  },
  {
   "cell_type": "code",
   "execution_count": null,
   "id": "5ce0b699",
   "metadata": {},
   "outputs": [],
   "source": [
    "import numpy as np\n",
    "import matplotlib.pyplot as plt\n",
    "from src.volcanic_island_simulator import VolcanicIslandSimulator\n",
    "from landlab import imshow_grid"
   ]
  },
  {
   "cell_type": "code",
   "execution_count": null,
   "id": "b6c98c63",
   "metadata": {},
   "outputs": [],
   "source": [
    "params = {\n",
    "    'grid': {\n",
    "        'num_rows': 81,\n",
    "        'num_cols': 81,\n",
    "        'spacing': 10.0,\n",
    "    },\n",
    "    'cone': {\n",
    "        'relief': 30.0,\n",
    "        'angle': 6.0,\n",
    "        'noise': 0.0\n",
    "    },\n",
    "    'timing': {\n",
    "        'run_duration': 100000.0,\n",
    "        'timestep_size': 1000.0\n",
    "    },\n",
    "    'output': {\n",
    "        'output_interval_fraction': 0.05,  # e.g., 0.05 means 5% intervals: 5, 10, 15, 20...100%\n",
    "        'output_file_basename': 'volcanic_island',\n",
    "    },\n",
    "    'weathering': {\n",
    "        \"linear_diffusivity\": 0.01,  # diffusion coefficient in m^2/yr\n",
    "        \"soil_transport_decay_depth\": 1.0,  # depth of soil in m\n",
    "        \"soil_production__maximum_rate\": 0.0001,  # soil conversion rate for bare rock in m/yr\n",
    "        \"soil_production__decay_depth\": 0.5,  # characteristic weathering depth in m\n",
    "        \"initial_soil_thickness\": 1.0,\n",
    "    },\n",
    "    'space': {\n",
    "        \"K_sed\": 0.0,  # sediment erodibility\n",
    "        \"K_br\": 0.0,  # bedrock erodibility\n",
    "        \"F_f\": 0.0,  # fraction of fines\n",
    "        \"phi\": 0.3,  # sediment porosity\n",
    "        \"H_star\": 0.1,  # characteristic sediment thickness (roughness height)\n",
    "        \"v_s\": 0.001,  # settling velocity\n",
    "        \"m_sp\": 0.5,  # area exponent in stream power equation\n",
    "        \"n_sp\": 1.0,  # slope exponent in stream power equation\n",
    "        \"sp_crit_sed\": 0.0,  # threshold to erode sediment?\n",
    "        \"sp_crit_br\": 0.0,  # threshold to erode bedrock?\n",
    "        \"discharge_field\": \"surface_water__discharge\",\n",
    "        \"solver\": \"basic\",\n",
    "        \"dt_min\": 0.001,\n",
    "    },\n",
    "    'marine': {\n",
    "        'sea_level': 0.,\n",
    "        'wave_base': 5.0,\n",
    "        'shallow_water_diffusivity': 1.0e-20,   \n",
    "    }\n",
    "}"
   ]
  },
  {
   "cell_type": "code",
   "execution_count": null,
   "id": "3b77b44b",
   "metadata": {},
   "outputs": [],
   "source": [
    "vsim = VolcanicIslandSimulator(params)\n",
    "\n",
    "initial_topo = vsim.topo.copy()"
   ]
  },
  {
   "cell_type": "code",
   "execution_count": null,
   "id": "6ee87b15",
   "metadata": {},
   "outputs": [],
   "source": [
    "vsim.run()"
   ]
  },
  {
   "cell_type": "code",
   "execution_count": null,
   "id": "3d4347fd",
   "metadata": {},
   "outputs": [],
   "source": [
    "imshow_grid(vsim.grid, 'topographic__elevation')"
   ]
  },
  {
   "cell_type": "code",
   "execution_count": null,
   "id": "06095331",
   "metadata": {},
   "outputs": [],
   "source": [
    "imshow_grid(vsim.grid, vsim.topo - initial_topo)"
   ]
  },
  {
   "cell_type": "code",
   "execution_count": null,
   "id": "31a8ffa7",
   "metadata": {},
   "outputs": [],
   "source": [
    "print(np.mean(initial_topo))\n",
    "print(np.mean(vsim.topo))"
   ]
  },
  {
   "cell_type": "code",
   "execution_count": null,
   "id": "3b9217dc",
   "metadata": {},
   "outputs": [],
   "source": [
    "# Plot 2 cross-sections\n",
    "plt.plot(vsim.grid.x_of_node.reshape(81, 81)[41,:], vsim.topo.reshape(81, 81)[41,:])\n",
    "plt.plot(vsim.grid.x_of_node.reshape(81, 81)[21,:], vsim.topo.reshape(81, 81)[21,:])\n",
    "plt.xlabel('Distance (m)')\n",
    "plt.ylabel('Elevation (m)')"
   ]
  },
  {
   "cell_type": "code",
   "execution_count": null,
   "id": "ed453dde",
   "metadata": {},
   "outputs": [],
   "source": [
    "imshow_grid(vsim.grid, vsim.grid.at_node[\"soil__depth\"])"
   ]
  },
  {
   "cell_type": "code",
   "execution_count": null,
   "id": "036f3391",
   "metadata": {},
   "outputs": [],
   "source": []
  }
 ],
 "metadata": {
  "kernelspec": {
   "display_name": "Python 3 (ipykernel)",
   "language": "python",
   "name": "python3"
  },
  "language_info": {
   "codemirror_mode": {
    "name": "ipython",
    "version": 3
   },
   "file_extension": ".py",
   "mimetype": "text/x-python",
   "name": "python",
   "nbconvert_exporter": "python",
   "pygments_lexer": "ipython3",
   "version": "3.8.12"
  }
 },
 "nbformat": 4,
 "nbformat_minor": 5
}
