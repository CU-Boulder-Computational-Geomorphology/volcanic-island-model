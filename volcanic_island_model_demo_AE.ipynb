{
 "cells": [
  {
   "cell_type": "markdown",
   "id": "phantom-upper",
   "metadata": {},
   "source": [
    "# Volcanic island model demonstration\n",
    "\n",
    "This notebooks illustrates the usage of the `VolcanicIslandSimulator`.\n",
    "\n",
    "Created by CU Boulder Geomorphology Seminar team, spring semester 2022."
   ]
  },
  {
   "cell_type": "code",
   "execution_count": 1,
   "id": "auburn-criterion",
   "metadata": {},
   "outputs": [],
   "source": [
    "import numpy as np\n",
    "import matplotlib.pyplot as plt\n",
    "from src.volcanic_island_simulator import VolcanicIslandSimulator\n",
    "from landlab import imshow_grid"
   ]
  },
  {
   "cell_type": "code",
   "execution_count": 2,
   "id": "packed-kitty",
   "metadata": {},
   "outputs": [],
   "source": [
    "params = {\"initial_conditions\": {\"angle\": 10, \"relief\": 3800, \"spacing\": 1000}}"
   ]
  },
  {
   "cell_type": "code",
   "execution_count": 3,
   "id": "incredible-tuition",
   "metadata": {},
   "outputs": [],
   "source": [
    "vsim = VolcanicIslandSimulator(params)"
   ]
  },
  {
   "cell_type": "code",
   "execution_count": 4,
   "id": "blond-invitation",
   "metadata": {},
   "outputs": [],
   "source": [
    "vsim.run()"
   ]
  },
  {
   "cell_type": "code",
   "execution_count": 5,
   "id": "opposite-guyana",
   "metadata": {},
   "outputs": [
    {
     "name": "stderr",
     "output_type": "stream",
     "text": [
      "/opt/anaconda3/lib/python3.7/site-packages/landlab/plot/imshow.py:454: MatplotlibDeprecationWarning: You are modifying the state of a globally registered colormap. In future versions, you will not be able to modify a registered colormap in-place. To remove this warning, you can make a copy of the colormap first. cmap = copy.copy(mpl.cm.get_cmap(\"pink\"))\n",
      "  cmap.set_bad(color=color_for_closed)\n",
      "/opt/anaconda3/lib/python3.7/site-packages/landlab/plot/imshow.py:494: MatplotlibDeprecationWarning: The 'norm' parameter to Colorbar has no effect because it is overridden by the mappable; it is deprecated since 3.3 and will be removed two minor releases later.\n",
      "  cb = plt.colorbar(norm=norm, shrink=shrink)\n"
     ]
    },
    {
     "data": {
      "image/png": "[encoded data removed]",
      "text/plain": [
       "<Figure size 432x288 with 2 Axes>"
      ]
     },
     "metadata": {
      "needs_background": "light"
     },
     "output_type": "display_data"
    }
   ],
   "source": [
    "imshow_grid(vsim.grid, 'topographic__elevation')"
   ]
  },
  {
   "cell_type": "code",
   "execution_count": 6,
   "id": "limiting-variation",
   "metadata": {},
   "outputs": [
    {
     "data": {
      "image/png": "[encoded data removed]",
      "text/plain": [
       "<Figure size 432x288 with 2 Axes>"
      ]
     },
     "metadata": {
      "needs_background": "light"
     },
     "output_type": "display_data"
    }
   ],
   "source": [
    "imshow_grid(vsim.grid, 'drainage_area')"
   ]
  },
  {
   "cell_type": "code",
   "execution_count": 7,
   "id": "fixed-gibson",
   "metadata": {},
   "outputs": [
    {
     "ename": "AttributeError",
     "evalue": "'VolcanicIslandSimulator' object has no attribute 'plot_elevation'",
     "output_type": "error",
     "traceback": [
      "\u001b[0;31m---------------------------------------------------------------------------\u001b[0m",
      "\u001b[0;31mAttributeError\u001b[0m                            Traceback (most recent call last)",
      "\u001b[0;32m<ipython-input-7-4a5bb8c7ddeb>\u001b[0m in \u001b[0;36m<module>\u001b[0;34m\u001b[0m\n\u001b[0;32m----> 1\u001b[0;31m \u001b[0mvsim\u001b[0m\u001b[0;34m.\u001b[0m\u001b[0mplot_elevation\u001b[0m\u001b[0;34m(\u001b[0m\u001b[0;34m)\u001b[0m\u001b[0;34m\u001b[0m\u001b[0;34m\u001b[0m\u001b[0m\n\u001b[0m",
      "\u001b[0;31mAttributeError\u001b[0m: 'VolcanicIslandSimulator' object has no attribute 'plot_elevation'"
     ]
    }
   ],
   "source": [
    "vsim.plot_elevation()"
   ]
  },
  {
   "cell_type": "code",
   "execution_count": null,
   "id": "bright-luther",
   "metadata": {},
   "outputs": [],
   "source": []
  }
 ],
 "metadata": {
  "kernelspec": {
   "display_name": "Python 3",
   "language": "python",
   "name": "python3"
  },
  "language_info": {
   "codemirror_mode": {
    "name": "ipython",
    "version": 3
   },
   "file_extension": ".py",
   "mimetype": "text/x-python",
   "name": "python",
   "nbconvert_exporter": "python",
   "pygments_lexer": "ipython3",
   "version": "3.7.7"
  }
 },
 "nbformat": 4,
 "nbformat_minor": 5
}
