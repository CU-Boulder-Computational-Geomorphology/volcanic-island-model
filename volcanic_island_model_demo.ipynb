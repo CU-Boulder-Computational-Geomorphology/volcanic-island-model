{
 "cells": [
  {
   "cell_type": "markdown",
   "id": "8be8e55b",
   "metadata": {},
   "source": [
    "# Volcanic island model demonstration\n",
    "\n",
    "This notebooks illustrates the usage of the `VolcanicIslandSimulator`.\n",
    "\n",
    "Created by CU Boulder Geomorphology Seminar team, spring semester 2022."
   ]
  },
  {
   "cell_type": "code",
   "execution_count": 1,
   "id": "f4c55a6f",
   "metadata": {},
   "outputs": [],
   "source": [
    "import numpy as np\n",
    "import matplotlib.pyplot as plt\n",
    "from src.volcanic_island_simulator import VolcanicIslandSimulator"
   ]
  },
  {
   "cell_type": "code",
   "execution_count": 5,
   "id": "9a3857f0",
   "metadata": {},
   "outputs": [],
   "source": []
  },
  {
   "cell_type": "code",
   "execution_count": 4,
   "id": "28fd166f",
   "metadata": {},
   "outputs": [],
   "source": [
    "vsim = VolcanicIslandSimulator()"
   ]
  },
  {
   "cell_type": "code",
   "execution_count": null,
   "id": "5046fa95",
   "metadata": {},
   "outputs": [],
   "source": []
  }
 ],
 "metadata": {
  "kernelspec": {
   "display_name": "Python 3 (ipykernel)",
   "language": "python",
   "name": "python3"
  },
  "language_info": {
   "codemirror_mode": {
    "name": "ipython",
    "version": 3
   },
   "file_extension": ".py",
   "mimetype": "text/x-python",
   "name": "python",
   "nbconvert_exporter": "python",
   "pygments_lexer": "ipython3",
   "version": "3.8.12"
  }
 },
 "nbformat": 4,
 "nbformat_minor": 5
}
