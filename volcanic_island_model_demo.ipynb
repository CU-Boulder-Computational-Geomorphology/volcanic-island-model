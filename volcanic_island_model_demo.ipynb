{
 "cells": [
  {
   "cell_type": "markdown",
   "id": "amended-container",
   "metadata": {},
   "source": [
    "# Volcanic island model demonstration\n",
    "\n",
    "This notebooks illustrates the usage of the `VolcanicIslandSimulator`.\n",
    "\n",
    "Created by CU Boulder Geomorphology Seminar team, spring semester 2022."
   ]
  },
  {
   "cell_type": "code",
   "execution_count": null,
   "id": "opponent-option",
   "metadata": {},
   "outputs": [],
   "source": [
    "import numpy as np\n",
    "import matplotlib.pyplot as plt\n",
    "from src.volcanic_island_simulator import VolcanicIslandSimulator\n",
    "from landlab import imshow_grid"
   ]
  },
  {
   "cell_type": "code",
   "execution_count": null,
   "id": "polar-gamma",
   "metadata": {},
   "outputs": [],
   "source": [
    "params = {\n",
    "    'grid': {\n",
    "        'num_rows': 81,\n",
    "        'num_cols': 81,\n",
    "        'spacing': 500.0,\n",
    "    },\n",
    "    'cone': {\n",
    "        'relief': 1500.0,\n",
    "        'angle': 6.0,\n",
    "        'noise': 40.0\n",
    "    },\n",
    "    'marine': {\n",
    "        'sea_level': 0.,\n",
    "        'wave_base': 5.0,\n",
    "        'shallow_water_diffusivity': 100.0,   \n",
    "    }\n",
    "}"
   ]
  },
  {
   "cell_type": "code",
   "execution_count": null,
   "id": "spare-squad",
   "metadata": {},
   "outputs": [],
   "source": [
    "vsim = VolcanicIslandSimulator(params)"
   ]
  },
  {
   "cell_type": "code",
   "execution_count": null,
   "id": "involved-pressing",
   "metadata": {},
   "outputs": [],
   "source": [
    "vsim.run()"
   ]
  },
  {
   "cell_type": "code",
   "execution_count": null,
   "id": "emotional-queens",
   "metadata": {},
   "outputs": [],
   "source": [
    "imshow_grid(vsim.grid, 'topographic__elevation')"
   ]
  },
  {
   "cell_type": "code",
   "execution_count": null,
   "id": "annoying-visitor",
   "metadata": {},
   "outputs": [],
   "source": [
    "imshow_grid(vsim.grid, 'drainage_area')"
   ]
  },
  {
   "cell_type": "code",
   "execution_count": null,
   "id": "functional-cattle",
   "metadata": {},
   "outputs": [],
   "source": [
    "vsim = VolcanicIslandSimulator(params)"
   ]
  },
  {
   "cell_type": "code",
   "execution_count": null,
   "id": "micro-wrestling",
   "metadata": {},
   "outputs": [],
   "source": [
    "vsim = VolcanicIslandSimulator(params)"
   ]
  },
  {
   "cell_type": "code",
   "execution_count": null,
   "id": "514e942c",
   "metadata": {},
   "outputs": [],
   "source": []
  }
 ],
 "metadata": {
  "kernelspec": {
   "display_name": "Python 3",
   "language": "python",
   "name": "python3"
  },
  "language_info": {
   "codemirror_mode": {
    "name": "ipython",
    "version": 3
   },
   "file_extension": ".py",
   "mimetype": "text/x-python",
   "name": "python",
   "nbconvert_exporter": "python",
   "pygments_lexer": "ipython3",
   "version": "3.7.7"
  }
 },
 "nbformat": 4,
 "nbformat_minor": 5
}
