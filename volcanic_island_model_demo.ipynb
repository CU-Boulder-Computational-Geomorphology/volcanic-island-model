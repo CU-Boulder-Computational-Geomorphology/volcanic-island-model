{
 "cells": [
  {
   "cell_type": "markdown",
   "id": "amended-container",
   "metadata": {},
   "source": [
    "# Volcanic island model demonstration\n",
    "\n",
    "This notebooks illustrates the usage of the `VolcanicIslandSimulator`.\n",
    "\n",
    "Created by CU Boulder Geomorphology Seminar team, spring semester 2022."
   ]
  },
  {
   "cell_type": "code",
   "execution_count": null,
   "id": "opponent-option",
   "metadata": {},
   "outputs": [],
   "source": [
    "import numpy as np\n",
    "import matplotlib.pyplot as plt\n",
    "from src.volcanic_island_simulator import VolcanicIslandSimulator\n",
    "from landlab import imshow_grid"
   ]
  },
  {
   "cell_type": "code",
   "execution_count": null,
   "id": "polar-gamma",
   "metadata": {},
   "outputs": [],
   "source": [
    "params = {\n",
    "    'grid': {\n",
    "        'num_rows': 81,\n",
    "        'num_cols': 81,\n",
    "        'spacing': 500.0,\n",
    "    },\n",
    "    'cone': {\n",
    "        'relief': 1500.0,\n",
    "        'angle': 6.0,\n",
    "        'noise': 40.0\n",
    "    },\n",
    "    'timing': {\n",
    "        'run_duration': 1000.0,\n",
    "        'timestep_size': 1.0\n",
    "    },\n",
    "    'space': {\n",
    "        \"K_sed\": 0.01,  # sediment erodibility\n",
    "        \"K_br\": 0.0001,  # bedrock erodibility\n",
    "        \"F_f\": 0.0,  # fraction of fines\n",
    "        \"phi\": 0.3,  # sediment porosity\n",
    "        \"H_star\": 0.1,  # characteristic sediment thickness (roughness height)\n",
    "        \"v_s\": 0.001,  # settling velocity\n",
    "        \"m_sp\": 0.5,  # area exponent in stream power equation\n",
    "        \"n_sp\": 1.0,  # slope exponent in stream power equation\n",
    "        \"sp_crit_sed\": 0.0,  # threshold to erode sediment?\n",
    "        \"sp_crit_br\": 0.0,  # threshold to erode bedrock?\n",
    "        \"discharge_field\": \"surface_water__discharge\",\n",
    "        \"solver\": \"basic\",\n",
    "        \"dt_min\": 0.001,\n",
    "    },\n",
    "    'marine': {\n",
    "        'sea_level': 0.,\n",
    "        'wave_base': 5.0,\n",
    "        'shallow_water_diffusivity': 100.0,   \n",
    "    }\n",
    "}"
   ]
  },
  {
   "cell_type": "code",
   "execution_count": null,
   "id": "spare-squad",
   "metadata": {},
   "outputs": [],
   "source": [
    "vsim = VolcanicIslandSimulator(params)\n",
    "\n",
    "initial_topo = vsim.topo.copy()"
   ]
  },
  {
   "cell_type": "code",
   "execution_count": null,
   "id": "involved-pressing",
   "metadata": {},
   "outputs": [],
   "source": [
    "vsim.run()"
   ]
  },
  {
   "cell_type": "code",
   "execution_count": null,
   "id": "emotional-queens",
   "metadata": {},
   "outputs": [],
   "source": [
    "imshow_grid(vsim.grid, 'topographic__elevation')"
   ]
  },
  {
   "cell_type": "code",
   "execution_count": null,
   "id": "ae879322",
   "metadata": {},
   "outputs": [],
   "source": [
    "imshow_grid(vsim.grid, vsim.topo - initial_topo)"
   ]
  },
  {
   "cell_type": "code",
   "execution_count": null,
   "id": "a5611e59",
   "metadata": {
    "scrolled": true
   },
   "outputs": [],
   "source": [
    "imshow_grid(vsim.grid, 'drainage_area')"
   ]
  },
  {
   "cell_type": "code",
   "execution_count": null,
   "id": "514e942c",
   "metadata": {},
   "outputs": [],
   "source": [
    "imshow_grid(vsim.grid, vsim.soil)"
   ]
  },
  {
   "cell_type": "code",
   "execution_count": null,
   "id": "a71b5a66",
   "metadata": {},
   "outputs": [],
   "source": [
    "plt.plot(vsim.grid.x_of_node.reshape(81, 81)[41,:], vsim.topo.reshape(81, 81)[41,:])\n",
    "plt.plot(vsim.grid.x_of_node.reshape(81, 81)[21,:], vsim.topo.reshape(81, 81)[21,:])"
   ]
  },
  {
   "cell_type": "code",
   "execution_count": null,
   "id": "efcdce49",
   "metadata": {},
   "outputs": [],
   "source": [
    "# Check mass balance\n",
    "print('Starting mean topo', np.mean(initial_topo))\n",
    "print('Final mean topo', np.mean(vsim.topo))"
   ]
  },
  {
   "cell_type": "code",
   "execution_count": null,
   "id": "eac525e4",
   "metadata": {},
   "outputs": [],
   "source": [
    "# Write to obj file so we can import into Blender\n",
    "from landlab.io.obj import write_obj\n",
    "\n",
    "write_obj('evolved_island.obj', vsim.grid)"
   ]
  },
  {
   "cell_type": "code",
   "execution_count": null,
   "id": "44c63288",
   "metadata": {},
   "outputs": [],
   "source": [
    "# Write to NetCDF\n",
    "from landlab.io.netcdf import write_netcdf\n",
    "\n",
    "write_netcdf('evolved_island.nc', vsim.grid)"
   ]
  },
  {
   "cell_type": "code",
   "execution_count": null,
   "id": "714e960a",
   "metadata": {},
   "outputs": [],
   "source": []
  }
 ],
 "metadata": {
  "kernelspec": {
   "display_name": "Python 3 (ipykernel)",
   "language": "python",
   "name": "python3"
  },
  "language_info": {
   "codemirror_mode": {
    "name": "ipython",
    "version": 3
   },
   "file_extension": ".py",
   "mimetype": "text/x-python",
   "name": "python",
   "nbconvert_exporter": "python",
   "pygments_lexer": "ipython3",
   "version": "3.8.12"
  }
 },
 "nbformat": 4,
 "nbformat_minor": 5
}
