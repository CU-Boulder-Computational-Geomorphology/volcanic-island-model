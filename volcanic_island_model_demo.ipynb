{
 "cells": [
  {
   "cell_type": "markdown",
   "id": "97c6c469",
   "metadata": {},
   "source": [
    "# Volcanic island model demonstration\n",
    "\n",
    "This notebooks illustrates the usage of the `VolcanicIslandSimulator`.\n",
    "\n",
    "Created by CU Boulder Geomorphology Seminar team, spring semester 2022."
   ]
  },
  {
   "cell_type": "code",
   "execution_count": null,
   "id": "cb0fbc0c",
   "metadata": {},
   "outputs": [],
   "source": [
    "import numpy as np\n",
    "import matplotlib.pyplot as plt\n",
    "from src.volcanic_island_simulator import VolcanicIslandSimulator\n",
    "from landlab import imshow_grid"
   ]
  },
  {
   "cell_type": "code",
   "execution_count": null,
   "id": "c0cd8779",
   "metadata": {},
   "outputs": [],
   "source": [
    "params = {\n",
    "    'grid': {\n",
    "        'num_rows': 81,\n",
    "        'num_cols': 81,\n",
    "        'spacing': 500.0,\n",
    "    },\n",
    "    'cone': {\n",
    "        'relief': 1500.0,\n",
    "        'angle': 6.0,\n",
    "        'noise': 40.0\n",
    "    }\n",
    "}"
   ]
  },
  {
   "cell_type": "code",
   "execution_count": null,
   "id": "1879349e",
   "metadata": {},
   "outputs": [],
   "source": [
    "vsim = VolcanicIslandSimulator(params)"
   ]
  },
  {
   "cell_type": "code",
   "execution_count": null,
   "id": "d33eccc1",
   "metadata": {},
   "outputs": [],
   "source": [
    "vsim.run()"
   ]
  },
  {
   "cell_type": "code",
   "execution_count": null,
   "id": "f2c239be",
   "metadata": {},
   "outputs": [],
   "source": [
    "imshow_grid(vsim.grid, 'topographic__elevation')"
   ]
  },
  {
   "cell_type": "code",
   "execution_count": null,
   "id": "a5611e59",
   "metadata": {},
   "outputs": [],
   "source": [
    "imshow_grid(vsim.grid, 'drainage_area')"
   ]
  },
  {
   "cell_type": "code",
   "execution_count": null,
   "id": "45a6caf6",
   "metadata": {},
   "outputs": [],
   "source": [
    "vsim = VolcanicIslandSimulator(params)"
   ]
  },
  {
   "cell_type": "code",
   "execution_count": null,
   "id": "514e942c",
   "metadata": {},
   "outputs": [],
   "source": []
  }
 ],
 "metadata": {
  "kernelspec": {
   "display_name": "Python 3 (ipykernel)",
   "language": "python",
   "name": "python3"
  },
  "language_info": {
   "codemirror_mode": {
    "name": "ipython",
    "version": 3
   },
   "file_extension": ".py",
   "mimetype": "text/x-python",
   "name": "python",
   "nbconvert_exporter": "python",
   "pygments_lexer": "ipython3",
   "version": "3.8.12"
  }
 },
 "nbformat": 4,
 "nbformat_minor": 5
}
